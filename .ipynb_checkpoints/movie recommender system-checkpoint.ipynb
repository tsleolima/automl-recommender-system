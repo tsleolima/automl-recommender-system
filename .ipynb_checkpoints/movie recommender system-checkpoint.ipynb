{
 "cells": [
  {
   "cell_type": "markdown",
   "metadata": {},
   "source": [
    "### Importando libs"
   ]
  },
  {
   "cell_type": "code",
   "execution_count": null,
   "metadata": {
    "ExecuteTime": {
     "end_time": "2021-10-06T17:55:00.617067Z",
     "start_time": "2021-10-06T17:54:45.874190Z"
    }
   },
   "outputs": [],
   "source": [
    "# Basic imports\n",
    "import pandas as pd\n",
    "import tensorflow as tf\n",
    "import numpy as np\n",
    "\n",
    "# Preprocessing data imports\n",
    "from tensorflow.keras.preprocessing.sequence import TimeseriesGenerator\n",
    "from tensorflow.keras.preprocessing.sequence import pad_sequences\n",
    "from sklearn.model_selection import train_test_split\n",
    "from sklearn.preprocessing import LabelBinarizer\n",
    "from sklearn.metrics import make_scorer\n",
    "\n",
    "# AutoML imports\n",
    "import autosklearn.classification\n",
    "\n",
    "from tpot import TPOTClassifier\n",
    "from flaml import AutoML\n",
    "\n",
    "# Metrics imports\n",
    "from sklearn.metrics import accuracy_score"
   ]
  },
  {
   "cell_type": "markdown",
   "metadata": {},
   "source": [
    "### Lendo os dados"
   ]
  },
  {
   "cell_type": "code",
   "execution_count": null,
   "metadata": {
    "ExecuteTime": {
     "end_time": "2021-10-06T17:55:16.915916Z",
     "start_time": "2021-10-06T17:55:00.621025Z"
    }
   },
   "outputs": [],
   "source": [
    "seed = 42\n",
    "\n",
    "ratings = pd.read_csv('ml-25m/ratings_1kk.csv')"
   ]
  },
  {
   "cell_type": "markdown",
   "metadata": {},
   "source": [
    "#### Visualizando os dados"
   ]
  },
  {
   "cell_type": "code",
   "execution_count": null,
   "metadata": {
    "ExecuteTime": {
     "end_time": "2021-10-06T17:55:16.988509Z",
     "start_time": "2021-10-06T17:55:16.927783Z"
    }
   },
   "outputs": [],
   "source": [
    "ratings.head()"
   ]
  },
  {
   "cell_type": "code",
   "execution_count": null,
   "metadata": {
    "ExecuteTime": {
     "end_time": "2021-10-06T17:55:17.039392Z",
     "start_time": "2021-10-06T17:55:17.016515Z"
    }
   },
   "outputs": [],
   "source": [
    "print('Número de usuários:', len(ratings.groupby('userId')))\n",
    "print('Número de filmes:', len(ratings.groupby('movieId')))"
   ]
  },
  {
   "cell_type": "markdown",
   "metadata": {},
   "source": [
    "#### Separação das features do modelo"
   ]
  },
  {
   "cell_type": "code",
   "execution_count": null,
   "metadata": {
    "ExecuteTime": {
     "end_time": "2021-10-06T17:55:17.075487Z",
     "start_time": "2021-10-06T17:55:17.053444Z"
    }
   },
   "outputs": [],
   "source": [
    "X = ratings[['userId', 'movieId']]"
   ]
  },
  {
   "cell_type": "markdown",
   "metadata": {},
   "source": [
    "#### Gerando as labels para predição:\n",
    "\n",
    "A seguinte estratégia foi adotada, a ultima música a ser escutada pelo usuário foi utilizada como a música a ser predita. O objetivo então é criar os dados em um formato de timeSeries."
   ]
  },
  {
   "cell_type": "code",
   "execution_count": null,
   "metadata": {
    "ExecuteTime": {
     "start_time": "2021-10-06T17:54:47.513Z"
    }
   },
   "outputs": [],
   "source": [
    "count = X.groupby('userId')['userId'].transform('count')\n",
    "X = X[(count > 25) & (count < 50)]\n",
    "X = X.groupby('userId')['movieId'].apply(list).values\n",
    "X = pad_sequences(X, truncating='pre')"
   ]
  },
  {
   "cell_type": "code",
   "execution_count": null,
   "metadata": {
    "ExecuteTime": {
     "start_time": "2021-10-06T17:54:48.339Z"
    }
   },
   "outputs": [],
   "source": [
    "x = X[:,:-1]\n",
    "y = X[:,-1:]"
   ]
  },
  {
   "cell_type": "code",
   "execution_count": null,
   "metadata": {
    "ExecuteTime": {
     "start_time": "2021-10-06T17:54:48.756Z"
    }
   },
   "outputs": [],
   "source": [
    "x.shape"
   ]
  },
  {
   "cell_type": "code",
   "execution_count": null,
   "metadata": {
    "ExecuteTime": {
     "start_time": "2021-10-06T17:54:49.001Z"
    }
   },
   "outputs": [],
   "source": [
    "y.shape"
   ]
  },
  {
   "cell_type": "markdown",
   "metadata": {},
   "source": [
    "#### Métricas"
   ]
  },
  {
   "cell_type": "code",
   "execution_count": null,
   "metadata": {
    "ExecuteTime": {
     "end_time": "2021-10-06T18:12:56.922158Z",
     "start_time": "2021-10-06T18:12:56.890547Z"
    }
   },
   "outputs": [],
   "source": [
    "def dcg_score(y_true, y_score, k=5):\n",
    "    \"\"\"Discounted cumulative gain (DCG) at rank K.\n",
    "\n",
    "    Parameters\n",
    "    ----------\n",
    "    y_true : array, shape = [n_samples]\n",
    "        Ground truth (true relevance labels).\n",
    "    y_score : array, shape = [n_samples, n_classes]\n",
    "        Predicted scores.\n",
    "    k : int\n",
    "        Rank.\n",
    "\n",
    "    Returns\n",
    "    -------\n",
    "    score : float\n",
    "    \"\"\"\n",
    "    order = np.argsort(y_score)[::-1]\n",
    "    y_true = np.take(y_true, order[:k])\n",
    "\n",
    "    gain = 2 ** y_true - 1\n",
    "\n",
    "    discounts = np.log2(np.arange(len(y_true)) + 2)\n",
    "    return np.sum(gain / discounts)\n",
    "\n",
    "\n",
    "def ndcg_score(ground_truth, predictions, k=5):\n",
    "    \"\"\"Normalized discounted cumulative gain (NDCG) at rank K.\n",
    "\n",
    "    Normalized Discounted Cumulative Gain (NDCG) measures the performance of a\n",
    "    recommendation system based on the graded relevance of the recommended\n",
    "    entities. It varies from 0.0 to 1.0, with 1.0 representing the ideal\n",
    "    ranking of the entities.\n",
    "\n",
    "    Parameters\n",
    "    ----------\n",
    "    ground_truth : array, shape = [n_samples]\n",
    "        Ground truth (true labels represended as integers).\n",
    "    predictions : array, shape = [n_samples, n_classes]\n",
    "        Predicted probabilities.\n",
    "    k : int\n",
    "        Rank.\n",
    "\n",
    "    Returns\n",
    "    -------\n",
    "    score : float\n",
    "\n",
    "    Example\n",
    "    -------\n",
    "    >>> ground_truth = [1, 0, 2]\n",
    "    >>> predictions = [[0.15, 0.55, 0.2], [0.7, 0.2, 0.1], [0.06, 0.04, 0.9]]\n",
    "    >>> score = ndcg_score(ground_truth, predictions, k=2)\n",
    "    1.0\n",
    "    >>> predictions = [[0.9, 0.5, 0.8], [0.7, 0.2, 0.1], [0.06, 0.04, 0.9]]\n",
    "    >>> score = ndcg_score(ground_truth, predictions, k=2)\n",
    "    0.6666666666\n",
    "    \"\"\"\n",
    "    lb = LabelBinarizer()\n",
    "    # get first array element of predictions array to correct calculate ground_truth len\n",
    "    lb.fit(range(len(predictions[0]) + 1))\n",
    "    T = lb.transform(ground_truth)\n",
    "\n",
    "    scores = []\n",
    "\n",
    "    # Iterate over each y_true and compute the DCG score\n",
    "    for y_true, y_score in zip(T, predictions):\n",
    "        actual = dcg_score(y_true, y_score, k)\n",
    "        best = dcg_score(y_true, y_true, k)\n",
    "        \n",
    "        # HACK: Should not be needed, but in case nothing was relevant\n",
    "        if best <= 0:\n",
    "            score = 0.0\n",
    "        else:\n",
    "            score = float(actual) / float(best)\n",
    "        scores.append(score)\n",
    "\n",
    "    return np.mean(scores)"
   ]
  },
  {
   "cell_type": "markdown",
   "metadata": {},
   "source": [
    "#### Split dos dados de treino e teste"
   ]
  },
  {
   "cell_type": "code",
   "execution_count": null,
   "metadata": {
    "ExecuteTime": {
     "start_time": "2021-10-06T17:54:50.152Z"
    }
   },
   "outputs": [],
   "source": [
    "X_train, X_test, y_train, y_test = train_test_split(x, y, test_size=0.2, random_state=seed)"
   ]
  },
  {
   "cell_type": "markdown",
   "metadata": {},
   "source": [
    "#### FLAML"
   ]
  },
  {
   "cell_type": "code",
   "execution_count": null,
   "metadata": {
    "ExecuteTime": {
     "end_time": "2021-10-06T14:15:43.863888Z",
     "start_time": "2021-10-06T14:15:35.653876Z"
    }
   },
   "outputs": [],
   "source": [
    "automl = AutoML()"
   ]
  },
  {
   "cell_type": "code",
   "execution_count": null,
   "metadata": {
    "ExecuteTime": {
     "end_time": "2021-10-06T15:19:09.268513Z",
     "start_time": "2021-10-06T14:15:43.875660Z"
    },
    "scrolled": true
   },
   "outputs": [],
   "source": [
    "automl.fit(X_train, \n",
    "           y_train, \n",
    "           task=\"classification\", \n",
    "           metric='accuracy', \n",
    "           time_budget=3600,\n",
    "           seed=seed,\n",
    "           n_jobs=4)"
   ]
  },
  {
   "cell_type": "code",
   "execution_count": null,
   "metadata": {
    "ExecuteTime": {
     "end_time": "2021-10-06T15:21:10.040038Z",
     "start_time": "2021-10-06T15:21:10.021308Z"
    }
   },
   "outputs": [],
   "source": [
    "print('Best ML leaner:', automl.best_estimator)\n",
    "print('Best hyperparmeter config:', automl.best_config)\n",
    "print('Best accuracy on validation data: {0:.4g}'.format(1-automl.best_loss))\n",
    "print('Training duration of best run: {0:.4g} s'.format(automl.best_config_train_time))"
   ]
  },
  {
   "cell_type": "code",
   "execution_count": null,
   "metadata": {
    "ExecuteTime": {
     "end_time": "2021-10-06T15:21:13.001472Z",
     "start_time": "2021-10-06T15:21:12.982572Z"
    }
   },
   "outputs": [],
   "source": [
    "automl.model.estimator"
   ]
  },
  {
   "cell_type": "code",
   "execution_count": null,
   "metadata": {
    "ExecuteTime": {
     "end_time": "2021-10-06T15:21:23.681814Z",
     "start_time": "2021-10-06T15:21:21.728890Z"
    },
    "scrolled": true
   },
   "outputs": [],
   "source": [
    "y_pred = automl.predict(X_test)\n",
    "y_pred_proba = automl.predict_proba(X_test)"
   ]
  },
  {
   "cell_type": "code",
   "execution_count": null,
   "metadata": {
    "ExecuteTime": {
     "end_time": "2021-10-06T15:21:27.907399Z",
     "start_time": "2021-10-06T15:21:27.706620Z"
    },
    "scrolled": false
   },
   "outputs": [],
   "source": [
    "print('accuracy', '=', accuracy_score(y_test, y_pred))\n",
    "print('ndcg-score =', ndcg_score([i[0] for i in y_test], y_pred_proba, 10))"
   ]
  },
  {
   "cell_type": "markdown",
   "metadata": {},
   "source": [
    "#### TPOT"
   ]
  },
  {
   "cell_type": "code",
   "execution_count": null,
   "metadata": {
    "ExecuteTime": {
     "end_time": "2021-10-06T18:37:47.076899Z",
     "start_time": "2021-10-06T18:37:47.038812Z"
    },
    "scrolled": true
   },
   "outputs": [],
   "source": [
    "tpot = TPOTClassifier(n_jobs=4, generations=0, max_time_mins=60, population_size=20, verbosity=2, random_state=seed)"
   ]
  },
  {
   "cell_type": "code",
   "execution_count": null,
   "metadata": {
    "ExecuteTime": {
     "end_time": "2021-10-06T19:13:14.767338Z",
     "start_time": "2021-10-06T18:37:48.525395Z"
    },
    "scrolled": false
   },
   "outputs": [],
   "source": [
    "tpot.fit(X_train, [i[0] for i in y_train])"
   ]
  },
  {
   "cell_type": "code",
   "execution_count": null,
   "metadata": {
    "ExecuteTime": {
     "end_time": "2021-10-06T19:13:45.630887Z",
     "start_time": "2021-10-06T19:13:14.779994Z"
    }
   },
   "outputs": [],
   "source": [
    "y_pred = tpot.predict(X_test)\n",
    "y_pred_proba = tpot.predict_proba(X_test)"
   ]
  },
  {
   "cell_type": "code",
   "execution_count": null,
   "metadata": {
    "ExecuteTime": {
     "end_time": "2021-10-06T19:14:02.177037Z",
     "start_time": "2021-10-06T19:14:01.963729Z"
    }
   },
   "outputs": [],
   "source": [
    "print('accuracy =', accuracy_score(y_test, y_pred))\n",
    "print('ndcg-score =', ndcg_score(y_test, y_pred_proba, 10))"
   ]
  },
  {
   "cell_type": "markdown",
   "metadata": {},
   "source": [
    "#### AutoSklearn"
   ]
  },
  {
   "cell_type": "code",
   "execution_count": null,
   "metadata": {
    "ExecuteTime": {
     "end_time": "2021-10-06T20:49:22.115299Z",
     "start_time": "2021-10-06T20:49:22.106433Z"
    },
    "scrolled": true
   },
   "outputs": [],
   "source": [
    "cls = autosklearn.classification.AutoSklearnClassifier(seed=seed, n_jobs=4, time_left_for_this_task=3600)"
   ]
  },
  {
   "cell_type": "code",
   "execution_count": null,
   "metadata": {
    "ExecuteTime": {
     "end_time": "2021-10-06T21:49:24.735816Z",
     "start_time": "2021-10-06T20:49:23.116482Z"
    },
    "scrolled": true
   },
   "outputs": [],
   "source": [
    "cls.fit(X_train, y_train)"
   ]
  },
  {
   "cell_type": "code",
   "execution_count": null,
   "metadata": {
    "ExecuteTime": {
     "end_time": "2021-10-06T21:51:18.902730Z",
     "start_time": "2021-10-06T21:51:11.165648Z"
    }
   },
   "outputs": [],
   "source": [
    "y_pred = cls.predict(X_test)\n",
    "y_pred_proba = cls.predict_proba(X_test)"
   ]
  },
  {
   "cell_type": "code",
   "execution_count": null,
   "metadata": {
    "ExecuteTime": {
     "end_time": "2021-10-06T21:51:19.228047Z",
     "start_time": "2021-10-06T21:51:18.937842Z"
    }
   },
   "outputs": [],
   "source": [
    "print('accuracy =', accuracy_score(y_test, y_pred))\n",
    "print('ndcg-score =', ndcg_score(y_test, y_pred_proba, 10))"
   ]
  }
 ],
 "metadata": {
  "kernelspec": {
   "display_name": "Python 3",
   "language": "python",
   "name": "python3"
  },
  "language_info": {
   "codemirror_mode": {
    "name": "ipython",
    "version": 3
   },
   "file_extension": ".py",
   "mimetype": "text/x-python",
   "name": "python",
   "nbconvert_exporter": "python",
   "pygments_lexer": "ipython3",
   "version": "3.8.5"
  }
 },
 "nbformat": 4,
 "nbformat_minor": 4
}
